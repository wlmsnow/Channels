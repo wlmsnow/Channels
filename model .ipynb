{
 "cells": [
  {
   "cell_type": "code",
   "execution_count": 1,
   "metadata": {
    "scrolled": true
   },
   "outputs": [
    {
     "name": "stderr",
     "output_type": "stream",
     "text": [
      "Using TensorFlow backend.\n"
     ]
    },
    {
     "name": "stdout",
     "output_type": "stream",
     "text": [
      "importing Jupyter notebook from config_file.ipynb\n"
     ]
    }
   ],
   "source": [
    "import io, os, sys, types\n",
    "from IPython import get_ipython\n",
    "from Utils import NotebookFinder\n",
    "from keras import regularizers,utils\n",
    "from keras.layers import Dense,Dropout,Flatten,Conv2D,MaxPool2D,Reshape\n",
    "from keras.models import Sequential\n",
    "import pandas as pd\n",
    "from config_file import config"
   ]
  },
  {
   "cell_type": "code",
   "execution_count": 2,
   "metadata": {},
   "outputs": [],
   "source": []
  },
  {
   "cell_type": "code",
   "execution_count": 3,
   "metadata": {},
   "outputs": [],
   "source": [
    "# Set hyper parameters of neural network\n",
    "BATCH_SIZE  = config[\"model\"][\"BATCH_SIZE\"]\n",
    "FEATURES_SIZE = config[\"model\"][\"FEATURES_SIZE\"] # Define the feature size and number of channels that the neural network can receive  \n",
    "NUM_CHANNELS = config[\"model\"][\"NUM_CHANNELS\"]\n",
    "CONV1_SIZE = config[\"model\"][\"CONV1_SIZE\"]# Define the size and number of first-level convolution kernels\n",
    "CONV1_KERNEL_NUM = config[\"model\"][\"CONV1_KERNEL_NUM\" ]                 \n",
    "CONV2_SIZE = config[\"model\"][\"CONV2_SIZE\"]# Define the size and number of second-level convolution kernels\n",
    "CONV2_KERNEL_NUM = config[\"model\"][\"CONV2_KERNEL_NUM\"]\n",
    "FC_SIZE = config[\"model\"][ \"FC_SIZE\" ]# Define the number of neurons in the third fully connected layer\n",
    "OUTPUT_NODE = config[\"model\"][\"OUTPUT_NODE\"]# Define the number of neurons in the fourth fully connected layer\n",
    "FEATURES_SIZE = config[\"model\"][\"FEATURES_SIZE\"]\n",
    "keep_prob = config[\"model\"][ \"keep_prob\" ]\n",
    "regularizer = config[\"model\"][\"regularizer\"]\n",
    "num_classes  =config[\"model\"][ \"num_classes\" ]\n",
    "FEATURES_SHAPE = (FEATURES_SIZE,FEATURES_SIZE,1)\n"
   ]
  },
  {
   "cell_type": "code",
   "execution_count": 4,
   "metadata": {},
   "outputs": [],
   "source": [
    "def create_model():\n",
    "    model = Sequential()\n",
    "    model.add(Reshape((FEATURES_SIZE, FEATURES_SIZE,1), input_shape=(81,)))\n",
    "    model.add(Conv2D(filters= CONV1_KERNEL_NUM, kernel_size=(CONV1_SIZE,CONV1_SIZE), padding='Same', activation='relu',kernel_regularizer=regularizers.l2(regularizer)))\n",
    "    model.add(MaxPool2D(pool_size=(1,1)))\n",
    "    model.add(Conv2D(filters= CONV2_KERNEL_NUM, kernel_size=(CONV2_SIZE,CONV2_SIZE), padding='Same', activation='relu',kernel_regularizer=regularizers.l2(regularizer)))\n",
    "    model.add(MaxPool2D(pool_size=(1,1)))\n",
    "    model.add(Flatten())\n",
    "    model.add(Dense(FC_SIZE, activation='relu'))    \n",
    "    model.add(Dropout(keep_prob))\n",
    "    model.add(Dense(num_classes, activation='softmax')) \n",
    "    \n",
    "    return model"
   ]
  },
  {
   "cell_type": "code",
   "execution_count": 5,
   "metadata": {},
   "outputs": [
    {
     "name": "stdout",
     "output_type": "stream",
     "text": [
      "Model: \"sequential_1\"\n",
      "_________________________________________________________________\n",
      "Layer (type)                 Output Shape              Param #   \n",
      "=================================================================\n",
      "conv2d_1 (Conv2D)            (None, 9, 9, 32)          320       \n",
      "_________________________________________________________________\n",
      "max_pooling2d_1 (MaxPooling2 (None, 9, 9, 32)          0         \n",
      "_________________________________________________________________\n",
      "conv2d_2 (Conv2D)            (None, 9, 9, 64)          18496     \n",
      "_________________________________________________________________\n",
      "max_pooling2d_2 (MaxPooling2 (None, 9, 9, 64)          0         \n",
      "_________________________________________________________________\n",
      "flatten_1 (Flatten)          (None, 5184)              0         \n",
      "_________________________________________________________________\n",
      "dense_1 (Dense)              (None, 512)               2654720   \n",
      "_________________________________________________________________\n",
      "dropout_1 (Dropout)          (None, 512)               0         \n",
      "_________________________________________________________________\n",
      "dense_2 (Dense)              (None, 2)                 1026      \n",
      "=================================================================\n",
      "Total params: 2,674,562\n",
      "Trainable params: 2,674,562\n",
      "Non-trainable params: 0\n",
      "_________________________________________________________________\n"
     ]
    }
   ],
   "source": [
    "simple_model = create_model()\n",
    "simple_model.summary()"
   ]
  },
  {
   "cell_type": "code",
   "execution_count": null,
   "metadata": {},
   "outputs": [],
   "source": [
    "#utils.plot_model(simple_model, 'model_with_shape_info.png', show_shapes=True)"
   ]
  },
  {
   "cell_type": "code",
   "execution_count": null,
   "metadata": {},
   "outputs": [],
   "source": []
  }
 ],
 "metadata": {
  "kernelspec": {
   "display_name": "Python 3",
   "language": "python",
   "name": "python3"
  },
  "language_info": {
   "codemirror_mode": {
    "name": "ipython",
    "version": 3
   },
   "file_extension": ".py",
   "mimetype": "text/x-python",
   "name": "python",
   "nbconvert_exporter": "python",
   "pygments_lexer": "ipython3",
   "version": "3.6.8"
  }
 },
 "nbformat": 4,
 "nbformat_minor": 2
}
