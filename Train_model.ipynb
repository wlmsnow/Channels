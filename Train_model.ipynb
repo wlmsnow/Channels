{
 "cells": [
  {
   "cell_type": "code",
   "execution_count": 1,
   "metadata": {},
   "outputs": [
    {
     "name": "stdout",
     "output_type": "stream",
     "text": [
      "importing Jupyter notebook from model.ipynb\n"
     ]
    },
    {
     "name": "stderr",
     "output_type": "stream",
     "text": [
      "Using TensorFlow backend.\n"
     ]
    },
    {
     "name": "stdout",
     "output_type": "stream",
     "text": [
      "importing Jupyter notebook from config_file.ipynb\n"
     ]
    }
   ],
   "source": [
    "import io, os, sys, types\n",
    "from IPython import get_ipython\n",
    "from Utils import NotebookFinder\n",
    "from model import create_model\n",
    "import datetime\n",
    "from config_file import config\n",
    "from keras import callbacks\n",
    "import tensorflow as tf\n",
    "from tensorflow.compat.v1 import ConfigProto\n",
    "from tensorflow.compat.v1 import InteractiveSession\n",
    "from tensorflow.compat.v1 import GPUOptions,Session\n",
    "from tensorflow.compat.v1 import InteractiveSession"
   ]
  },
  {
   "cell_type": "code",
   "execution_count": 2,
   "metadata": {},
   "outputs": [],
   "source": [
    "# Set tensorboard storage directory\n",
    "log_dir=\"logs/fit/\" + datetime.datetime.now().strftime(\"%Y%m%d-%H%M%S\")\n",
    "# Create a directory\n",
    "os.makedirs(log_dir)\n",
    "Batch_size = config[\"model\"][\"BATCH_SIZE\"]\n",
    "FEATURES_SIZE = config[\"model\"][\"FEATURES_SIZE\"]"
   ]
  },
  {
   "cell_type": "code",
   "execution_count": 3,
   "metadata": {},
   "outputs": [
    {
     "data": {
      "text/plain": [
       "64"
      ]
     },
     "execution_count": 3,
     "metadata": {},
     "output_type": "execute_result"
    }
   ],
   "source": [
    "Batch_size"
   ]
  },
  {
   "cell_type": "code",
   "execution_count": 4,
   "metadata": {},
   "outputs": [
    {
     "data": {
      "text/plain": [
       "9"
      ]
     },
     "execution_count": 4,
     "metadata": {},
     "output_type": "execute_result"
    }
   ],
   "source": [
    "FEATURES_SIZE"
   ]
  },
  {
   "cell_type": "markdown",
   "metadata": {},
   "source": [
    "## TensorBoardcallback()Function comments\n",
    " keras API  https://keras.io/callbacks/#tensorboard\n",
    " TensorBoardcallback=tf.keras.callbacks.TensorBoard(log_dir='./logs', \n",
    "                  histogram_freq=0, write_graph=True, write_images=False, \n",
    "                  embeddings_freq=0, embeddings_layer_names=None, embeddings_metadata=None)\n",
    " ### The log_dir and histogram parameters are defined in this model, that is, the histogram is calculated, but the specifics have not been understood\n",
    " \n",
    " ## callbacks.ModelCheckpoint()Function comments\n",
    " keras API-callbacks  https://keras.io/callbacks/\n",
    "   keras.callbacks.ModelCheckpoint(filepath, monitor='val_loss', verbose=0, save_best_only=False, save_weights_only=False, mode='auto', period=1)\n",
    "\n",
    "### In this model, val_accuracy is used as the criterion for determining the best performance model, that is, \"monitor = 'val_accuracy\" \". save_best_only = True Saves the best performing model on the validation set.\n",
    "\n",
    "## callbacks.EarlyStopping()Function comments\n",
    "\n",
    "keras API-earlystopping  https://keras.io/callbacks/#earlystopping\n",
    "keras.callbacks.callbacks.EarlyStopping(monitor='val_loss', min_delta=0, patience=0, verbose=0, mode='auto', \n",
    "                   baseline=None, restore_best_weights=False)\n",
    "### Set patience = 2 in this model, that is, after two epochs, val_accuracy does not increase, that is, to terminate training and reduce overfitting\n",
    "\n",
    "## model.fit()Function comments\n",
    "keras API -model.fit()https://keras.io/models/model/#fit\n",
    "fit(x=None, y=None, batch_size=None, epochs=1, verbose=1, callbacks=None, validation_split=0.0,          validation_data=None, shuffle=True, class_weight=None, sample_weight=None, initial_epoch=0, steps_per_epoch=None, validation_steps=None, validation_freq=1, max_queue_size=10, workers=1, use_multiprocessing=False)\n",
    "\n",
    "### In this model, 0.2 data is extracted from the original training set as the validation set to determine the state of the model, and training is stopped when appropriate. The validation set cannot change the hyperparameters of the model.\n",
    "\n",
    "\n",
    "   "
   ]
  },
  {
   "cell_type": "code",
   "execution_count": null,
   "metadata": {},
   "outputs": [],
   "source": [
    "def train_model(features_train,lables_train):\n",
    "    # Specify the use of a specific GPU, you do not need to specify\n",
    "    os.environ['CUDA_VISIBLE_DEVICES'] = '/gpu:0'\n",
    "    \n",
    "    model = create_model()\n",
    "    \n",
    "    # print(model.get_weights()) Output the initial parameters of the model\n",
    "    \n",
    "    # See Test_model.ipynb for comments\n",
    "    model.compile(optimizer='adam',\n",
    "                  loss='sparse_categorical_crossentropy',\n",
    "                  metrics=['accuracy'])\n",
    "    # Creating Keras callbacks \n",
    "    \n",
    "    tensorboard_callback = callbacks.TensorBoard(log_dir=log_dir, histogram_freq=1)\n",
    "    filepath = \"training_checkpoints/weights.best.hdf5\"\n",
    "    #filepath =  'training_checkpoints/weights.{epoch:02d}-{val_accuracy:.4f}.hd'\n",
    "    model_checkpoint_callback = callbacks.ModelCheckpoint(\n",
    "       filepath, period=1,monitor='val_accuracy',verbose=1, \n",
    "                            save_best_only=True)\n",
    "    os.makedirs('training_checkpoints/', exist_ok=True)\n",
    "    early_stopping_checkpoint = callbacks.EarlyStopping(patience=2)\n",
    "\n",
    "    history = model.fit(\n",
    "              features_train,\n",
    "              lables_train,\n",
    "              batch_size = Batch_size,\n",
    "              epochs=10, \n",
    "              #shuffle = True,\n",
    "              validation_split = 0.2,\n",
    "              callbacks=[tensorboard_callback,\n",
    "                         model_checkpoint_callback,\n",
    "                         early_stopping_checkpoint]\n",
    "    )\n",
    "    \n",
    "    \n",
    "    return history"
   ]
  },
  {
   "cell_type": "code",
   "execution_count": null,
   "metadata": {},
   "outputs": [],
   "source": []
  },
  {
   "cell_type": "code",
   "execution_count": null,
   "metadata": {},
   "outputs": [],
   "source": []
  }
 ],
 "metadata": {
  "kernelspec": {
   "display_name": "Python 3",
   "language": "python",
   "name": "python3"
  },
  "language_info": {
   "codemirror_mode": {
    "name": "ipython",
    "version": 3
   },
   "file_extension": ".py",
   "mimetype": "text/x-python",
   "name": "python",
   "nbconvert_exporter": "python",
   "pygments_lexer": "ipython3",
   "version": "3.6.8"
  }
 },
 "nbformat": 4,
 "nbformat_minor": 2
}
