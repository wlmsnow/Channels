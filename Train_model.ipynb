{
 "cells": [
  {
   "cell_type": "code",
   "execution_count": null,
   "metadata": {},
   "outputs": [],
   "source": [
    "import io, os, sys, types\n",
    "from IPython import get_ipython\n",
    "from Utils import NotebookFinder\n",
    "from model import create_model\n",
    "import datetime\n",
    "from config_file import config\n",
    "from keras import callbacks\n",
    "import tensorflow as tf\n",
    "from tensorflow.compat.v1 import ConfigProto\n",
    "from tensorflow.compat.v1 import InteractiveSession\n",
    "from tensorflow.compat.v1 import GPUOptions,Session\n",
    "from tensorflow.compat.v1 import InteractiveSession"
   ]
  },
  {
   "cell_type": "code",
   "execution_count": null,
   "metadata": {},
   "outputs": [],
   "source": [
    "log_dir=\"logs/fit/\" + datetime.datetime.now().strftime(\"%Y%m%d-%H%M%S\")\n",
    "os.makedirs(log_dir)\n",
    "Batch_size = config[\"model\"][\"BATCH_SIZE\"]\n",
    "FEATURES_SIZE = config[\"model\"][\"FEATURES_SIZE\"]"
   ]
  },
  {
   "cell_type": "code",
   "execution_count": null,
   "metadata": {},
   "outputs": [],
   "source": [
    "def train_model(features_train,lables_train):\n",
    "   # features_train = tf.reshape(features_train, [-1, FEATURES_SIZE,FEATURES_SIZE, 1])\n",
    "    os.environ['CUDA_VISIBLE_DEVICES'] = '/gpu:0'\n",
    "    model = create_model()\n",
    "    \n",
    "#     configPro = ConfigProto()\n",
    "#     configPro.gpu_options.per_process_gpu_memory_fraction = 0.33\n",
    "#     session = InteractiveSession(config=configPro)\n",
    "\n",
    "#     gpu_options = GPUOptions(per_process_gpu_memory_fraction=0.33)\n",
    "#     sess = Session(config=ConfigProto(gpu_options=gpu_options))\n",
    "# #     configPro = tf.ConfigProto()\n",
    "#     configPro.gpu_options.per_process_gpu_memory_fraction = 0.9\n",
    "#     tf.keras.backend.set_session(tf.Session(config=configPro))\n",
    "    \n",
    "    \n",
    "#         #原版 config = tf.ConfigProto(allow_soft_placement=True)\n",
    "#     config = tf.compat.v1.ConfigProto(allow_soft_placement=True)\n",
    "#     #原版 sess = tf.Session(config=config)\n",
    "#     sess =tf.compat.v1.Session(config=config)  #注意 ，这里为tensorflow2.0版本，与第1.0有差距。\n",
    "\n",
    "    \n",
    "    \n",
    "#     configPro = ConfigProto()\n",
    "#     configPro.gpu_options.allow_growth = True\n",
    "#     session = InteractiveSession(config=configPro)\n",
    "\n",
    "    model.compile(optimizer='adam',\n",
    "                  loss='sparse_categorical_crossentropy',\n",
    "                  metrics=['accuracy'])\n",
    "   # Creating Keras callbacks \n",
    "    print(\"kkkkkkkk\")\n",
    "   \n",
    "    tensorboard_callback = callbacks.TensorBoard(log_dir=log_dir, histogram_freq=1)\n",
    "    model_checkpoint_callback = callbacks.ModelCheckpoint(\n",
    "        'training_checkpoints/weights.{epoch:02d}-{val_loss:.2f}.hdf5', period=5,monitor='val_acc',verbose=1, \n",
    "                            save_best_only=True)\n",
    "    os.makedirs('training_checkpoints/', exist_ok=True)\n",
    "    early_stopping_checkpoint = callbacks.EarlyStopping(patience=5)\n",
    "#     tfconfig = ConfigProto(allow_soft_placement=True)\n",
    "#     tfconfig .gpu_options.allow_growth = True \n",
    "#     session = InteractiveSession(config=tfconfig)\n",
    " \n",
    "    history = model.fit(\n",
    "              features_train,\n",
    "              lables_train,\n",
    "              batch_size = Batch_size,\n",
    "              epochs=3, \n",
    "              #shuffle = True,\n",
    "              validation_split = 0.2,\n",
    "#               callbacks=[tensorboard_callback,\n",
    "#                          model_checkpoint_callback,\n",
    "#                          early_stopping_checkpoint]\n",
    "    )\n",
    "    \n",
    "    \n",
    "    return history"
   ]
  },
  {
   "cell_type": "code",
   "execution_count": null,
   "metadata": {},
   "outputs": [],
   "source": []
  },
  {
   "cell_type": "code",
   "execution_count": null,
   "metadata": {},
   "outputs": [],
   "source": []
  }
 ],
 "metadata": {
  "kernelspec": {
   "display_name": "Python 3",
   "language": "python",
   "name": "python3"
  },
  "language_info": {
   "codemirror_mode": {
    "name": "ipython",
    "version": 3
   },
   "file_extension": ".py",
   "mimetype": "text/x-python",
   "name": "python",
   "nbconvert_exporter": "python",
   "pygments_lexer": "ipython3",
   "version": "3.6.8"
  }
 },
 "nbformat": 4,
 "nbformat_minor": 2
}
