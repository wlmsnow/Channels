{
 "cells": [
  {
   "cell_type": "code",
   "execution_count": null,
   "metadata": {},
   "outputs": [],
   "source": [
    "import io, os, sys, types\n",
    "from IPython import get_ipython\n",
    "from Utils import NotebookFinder\n",
    "from model import create_model\n",
    "import datetime\n",
    "from config_file import config\n",
    "from keras import callbacks\n",
    "import tensorflow as tf\n",
    "from tensorflow.compat.v1 import ConfigProto\n",
    "from tensorflow.compat.v1 import InteractiveSession\n",
    "from tensorflow.compat.v1 import GPUOptions,Session\n",
    "from tensorflow.compat.v1 import InteractiveSession"
   ]
  },
  {
   "cell_type": "code",
   "execution_count": null,
   "metadata": {},
   "outputs": [],
   "source": [
    "log_dir=\"logs/fit/\" + datetime.datetime.now().strftime(\"%Y%m%d-%H%M%S\")\n",
    "os.makedirs(log_dir)\n",
    "Batch_size = config[\"model\"][\"BATCH_SIZE\"]\n",
    "FEATURES_SIZE = config[\"model\"][\"FEATURES_SIZE\"]"
   ]
  },
  {
   "cell_type": "code",
   "execution_count": null,
   "metadata": {},
   "outputs": [],
   "source": [
    "def train_model(features_train,lables_train):\n",
    "   # features_train = tf.reshape(features_train, [-1, FEATURES_SIZE,FEATURES_SIZE, 1])\n",
    "    os.environ['CUDA_VISIBLE_DEVICES'] = '/gpu:0'\n",
    "    model = create_model()\n",
    "    model.compile(optimizer='adam',\n",
    "                  loss='sparse_categorical_crossentropy',\n",
    "                  metrics=['accuracy'])\n",
    "   # Creating Keras callbacks \n",
    "    print(\"kkkkkkkk\")\n",
    "   \n",
    "    tensorboard_callback = callbacks.TensorBoard(log_dir=log_dir, histogram_freq=1)\n",
    "    model_checkpoint_callback = callbacks.ModelCheckpoint(\n",
    "        'training_checkpoints/weights.{epoch:02d}-{val_loss:.2f}.hdf5', period=5,monitor='val_acc',verbose=1, \n",
    "                            save_best_only=True)\n",
    "    os.makedirs('training_checkpoints/', exist_ok=True)\n",
    "    early_stopping_checkpoint = callbacks.EarlyStopping(patience=5)\n",
    "\n",
    " \n",
    "    history = model.fit(\n",
    "              features_train,\n",
    "              lables_train,\n",
    "              batch_size = Batch_size,\n",
    "              epochs=3, \n",
    "              #shuffle = True,\n",
    "              validation_split = 0.2,\n",
    "              callbacks=[tensorboard_callback,\n",
    "                         model_checkpoint_callback,\n",
    "                         early_stopping_checkpoint]\n",
    "    )\n",
    "    \n",
    "    \n",
    "    return history"
   ]
  },
  {
   "cell_type": "code",
   "execution_count": null,
   "metadata": {},
   "outputs": [],
   "source": []
  },
  {
   "cell_type": "code",
   "execution_count": null,
   "metadata": {},
   "outputs": [],
   "source": []
  }
 ],
 "metadata": {
  "kernelspec": {
   "display_name": "Python 3",
   "language": "python",
   "name": "python3"
  },
  "language_info": {
   "codemirror_mode": {
    "name": "ipython",
    "version": 3
   },
   "file_extension": ".py",
   "mimetype": "text/x-python",
   "name": "python",
   "nbconvert_exporter": "python",
   "pygments_lexer": "ipython3",
   "version": "3.6.8"
  }
 },
 "nbformat": 4,
 "nbformat_minor": 2
}
