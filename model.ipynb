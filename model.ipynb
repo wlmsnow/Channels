{
 "cells": [
  {
   "cell_type": "code",
   "execution_count": 2,
   "metadata": {
    "scrolled": true
   },
   "outputs": [
    {
     "name": "stderr",
     "output_type": "stream",
     "text": [
      "Using TensorFlow backend.\n"
     ]
    },
    {
     "name": "stdout",
     "output_type": "stream",
     "text": [
      "importing Jupyter notebook from config_file.ipynb\n"
     ]
    }
   ],
   "source": [
    "import io, os, sys, types\n",
    "from IPython import get_ipython\n",
    "from Utils import NotebookFinder\n",
    "from keras import regularizers,utils,initializers\n",
    "from keras.layers import Dense,Dropout,Flatten,Conv2D,MaxPool2D,Reshape\n",
    "from keras.models import Sequential\n",
    "import pandas as pd\n",
    "from config_file import config\n",
    "import keras\n",
    "import graphviz"
   ]
  },
  {
   "cell_type": "code",
   "execution_count": 3,
   "metadata": {},
   "outputs": [],
   "source": [
    "# Set hyper parameters of neural network\n",
    "BATCH_SIZE  = config[\"model\"][\"BATCH_SIZE\"]\n",
    "FEATURES_SIZE = config[\"model\"][\"FEATURES_SIZE\"] # Define the feature size and number of channels that the neural network can receive  \n",
    "NUM_CHANNELS = config[\"model\"][\"NUM_CHANNELS\"]\n",
    "CONV1_SIZE = config[\"model\"][\"CONV1_SIZE\"]# Define the size and number of first-level convolution kernels\n",
    "CONV1_KERNEL_NUM = config[\"model\"][\"CONV1_KERNEL_NUM\" ]                 \n",
    "CONV2_SIZE = config[\"model\"][\"CONV2_SIZE\"]# Define the size and number of second-level convolution kernels\n",
    "CONV2_KERNEL_NUM = config[\"model\"][\"CONV2_KERNEL_NUM\"]\n",
    "FC_SIZE = config[\"model\"][ \"FC_SIZE\" ]# Define the number of neurons in the third fully connected layer\n",
    "OUTPUT_NODE = config[\"model\"][\"OUTPUT_NODE\"]# Define the number of neurons in the fourth fully connected layer\n",
    "FEATURES_SIZE = config[\"model\"][\"FEATURES_SIZE\"]\n",
    "keep_prob = config[\"model\"][ \"keep_prob\" ]\n",
    "regularizer = config[\"model\"][\"regularizer\"]\n",
    "num_classes  =config[\"model\"][ \"num_classes\" ]\n",
    "FEATURES_SHAPE = (FEATURES_SIZE,FEATURES_SIZE,1)\n"
   ]
  },
  {
   "cell_type": "markdown",
   "metadata": {},
   "source": [
    "keras API - sequential_model\n",
    "https://keras-cn.readthedocs.io/en/latest/legacy/getting_started/sequential_model/"
   ]
  },
  {
   "cell_type": "code",
   "execution_count": 4,
   "metadata": {},
   "outputs": [],
   "source": [
    "def create_model():\n",
    "   \n",
    "    model = Sequential()\n",
    "    model.add(Reshape((FEATURES_SIZE, FEATURES_SIZE,1), input_shape=(81,)))\n",
    "    model.add(Conv2D(filters= CONV1_KERNEL_NUM,\n",
    "                     kernel_size=(CONV1_SIZE,CONV1_SIZE), \n",
    "                     padding='Same', \n",
    "                     activation='relu',\n",
    "                     kernel_regularizer=regularizers.l2(regularizer),\n",
    "                     kernel_initializer = initializers.TruncatedNormal(mean=0.0, stddev=0.1, seed=None),\n",
    "                     bias=True,\n",
    "                     bias_initializer = initializers.Zeros()))\n",
    "    model.add(MaxPool2D(pool_size=(1,1)))\n",
    "    model.add(Conv2D(filters= CONV2_KERNEL_NUM, \n",
    "                     kernel_size=(CONV2_SIZE,CONV2_SIZE),\n",
    "                     padding='Same', \n",
    "                     activation='relu',\n",
    "                     kernel_regularizer=regularizers.l2(regularizer),\n",
    "                     kernel_initializer = initializers.TruncatedNormal(mean=0.0, stddev=0.1, seed=None),\n",
    "                     bias=True,\n",
    "                     bias_initializer = initializers.Zeros()))\n",
    "    model.add(MaxPool2D(pool_size=(1,1)))\n",
    "    model.add(Flatten())\n",
    "    model.add(Dense(FC_SIZE, activation='relu'))    \n",
    "    model.add(Dropout(keep_prob))\n",
    "    model.add(Dense(num_classes, activation='softmax')) \n",
    "    \n",
    "    return model"
   ]
  },
  {
   "cell_type": "markdown",
   "metadata": {},
   "source": [
    "When running the run file, you need to comment out the following code. Because the run file contains the model file and the run file contains the code for configuring the GPU. If you do not comment, an error will occur in reconfiguring the GPU. You can also comment out the code that configures the GPU in the run file."
   ]
  },
  {
   "cell_type": "code",
   "execution_count": 5,
   "metadata": {
    "scrolled": false
   },
   "outputs": [
    {
     "name": "stderr",
     "output_type": "stream",
     "text": [
      "/usr/local/lib/python3.6/dist-packages/ipykernel_launcher.py:12: UserWarning: Update your `Conv2D` call to the Keras 2 API: `Conv2D(filters=32, kernel_size=(3, 3), padding=\"Same\", activation=\"relu\", kernel_regularizer=<keras.reg..., kernel_initializer=<keras.ini..., bias_initializer=<keras.ini..., use_bias=True)`\n",
      "  if sys.path[0] == '':\n"
     ]
    },
    {
     "name": "stdout",
     "output_type": "stream",
     "text": [
      "Model: \"sequential_1\"\n",
      "_________________________________________________________________\n",
      "Layer (type)                 Output Shape              Param #   \n",
      "=================================================================\n",
      "reshape_1 (Reshape)          (None, 9, 9, 1)           0         \n",
      "_________________________________________________________________\n",
      "conv2d_1 (Conv2D)            (None, 9, 9, 32)          320       \n",
      "_________________________________________________________________\n",
      "max_pooling2d_1 (MaxPooling2 (None, 9, 9, 32)          0         \n",
      "_________________________________________________________________\n",
      "conv2d_2 (Conv2D)            (None, 9, 9, 64)          18496     \n",
      "_________________________________________________________________\n",
      "max_pooling2d_2 (MaxPooling2 (None, 9, 9, 64)          0         \n",
      "_________________________________________________________________\n",
      "flatten_1 (Flatten)          (None, 5184)              0         \n",
      "_________________________________________________________________\n",
      "dense_1 (Dense)              (None, 512)               2654720   \n",
      "_________________________________________________________________\n",
      "dropout_1 (Dropout)          (None, 512)               0         \n",
      "_________________________________________________________________\n",
      "dense_2 (Dense)              (None, 2)                 1026      \n",
      "=================================================================\n",
      "Total params: 2,674,562\n",
      "Trainable params: 2,674,562\n",
      "Non-trainable params: 0\n",
      "_________________________________________________________________\n"
     ]
    },
    {
     "name": "stderr",
     "output_type": "stream",
     "text": [
      "/usr/local/lib/python3.6/dist-packages/ipykernel_launcher.py:21: UserWarning: Update your `Conv2D` call to the Keras 2 API: `Conv2D(filters=64, kernel_size=(3, 3), padding=\"Same\", activation=\"relu\", kernel_regularizer=<keras.reg..., kernel_initializer=<keras.ini..., bias_initializer=<keras.ini..., use_bias=True)`\n"
     ]
    },
    {
     "data": {
      "text/plain": [
       "{'name': 'sequential_1',\n",
       " 'layers': [{'class_name': 'Reshape',\n",
       "   'config': {'name': 'reshape_1',\n",
       "    'trainable': True,\n",
       "    'batch_input_shape': (None, 81),\n",
       "    'dtype': 'float32',\n",
       "    'target_shape': (9, 9, 1)}},\n",
       "  {'class_name': 'Conv2D',\n",
       "   'config': {'name': 'conv2d_1',\n",
       "    'trainable': True,\n",
       "    'dtype': 'float32',\n",
       "    'filters': 32,\n",
       "    'kernel_size': (3, 3),\n",
       "    'strides': (1, 1),\n",
       "    'padding': 'same',\n",
       "    'data_format': 'channels_last',\n",
       "    'dilation_rate': (1, 1),\n",
       "    'activation': 'relu',\n",
       "    'use_bias': True,\n",
       "    'kernel_initializer': {'class_name': 'TruncatedNormal',\n",
       "     'config': {'mean': 0.0, 'stddev': 0.1, 'seed': None}},\n",
       "    'bias_initializer': {'class_name': 'Zeros', 'config': {}},\n",
       "    'kernel_regularizer': {'class_name': 'L1L2',\n",
       "     'config': {'l1': 0.0, 'l2': 9.999999747378752e-05}},\n",
       "    'bias_regularizer': None,\n",
       "    'activity_regularizer': None,\n",
       "    'kernel_constraint': None,\n",
       "    'bias_constraint': None}},\n",
       "  {'class_name': 'MaxPooling2D',\n",
       "   'config': {'name': 'max_pooling2d_1',\n",
       "    'trainable': True,\n",
       "    'dtype': 'float32',\n",
       "    'pool_size': (1, 1),\n",
       "    'padding': 'valid',\n",
       "    'strides': (1, 1),\n",
       "    'data_format': 'channels_last'}},\n",
       "  {'class_name': 'Conv2D',\n",
       "   'config': {'name': 'conv2d_2',\n",
       "    'trainable': True,\n",
       "    'dtype': 'float32',\n",
       "    'filters': 64,\n",
       "    'kernel_size': (3, 3),\n",
       "    'strides': (1, 1),\n",
       "    'padding': 'same',\n",
       "    'data_format': 'channels_last',\n",
       "    'dilation_rate': (1, 1),\n",
       "    'activation': 'relu',\n",
       "    'use_bias': True,\n",
       "    'kernel_initializer': {'class_name': 'TruncatedNormal',\n",
       "     'config': {'mean': 0.0, 'stddev': 0.1, 'seed': None}},\n",
       "    'bias_initializer': {'class_name': 'Zeros', 'config': {}},\n",
       "    'kernel_regularizer': {'class_name': 'L1L2',\n",
       "     'config': {'l1': 0.0, 'l2': 9.999999747378752e-05}},\n",
       "    'bias_regularizer': None,\n",
       "    'activity_regularizer': None,\n",
       "    'kernel_constraint': None,\n",
       "    'bias_constraint': None}},\n",
       "  {'class_name': 'MaxPooling2D',\n",
       "   'config': {'name': 'max_pooling2d_2',\n",
       "    'trainable': True,\n",
       "    'dtype': 'float32',\n",
       "    'pool_size': (1, 1),\n",
       "    'padding': 'valid',\n",
       "    'strides': (1, 1),\n",
       "    'data_format': 'channels_last'}},\n",
       "  {'class_name': 'Flatten',\n",
       "   'config': {'name': 'flatten_1',\n",
       "    'trainable': True,\n",
       "    'dtype': 'float32',\n",
       "    'data_format': 'channels_last'}},\n",
       "  {'class_name': 'Dense',\n",
       "   'config': {'name': 'dense_1',\n",
       "    'trainable': True,\n",
       "    'dtype': 'float32',\n",
       "    'units': 512,\n",
       "    'activation': 'relu',\n",
       "    'use_bias': True,\n",
       "    'kernel_initializer': {'class_name': 'VarianceScaling',\n",
       "     'config': {'scale': 1.0,\n",
       "      'mode': 'fan_avg',\n",
       "      'distribution': 'uniform',\n",
       "      'seed': None}},\n",
       "    'bias_initializer': {'class_name': 'Zeros', 'config': {}},\n",
       "    'kernel_regularizer': None,\n",
       "    'bias_regularizer': None,\n",
       "    'activity_regularizer': None,\n",
       "    'kernel_constraint': None,\n",
       "    'bias_constraint': None}},\n",
       "  {'class_name': 'Dropout',\n",
       "   'config': {'name': 'dropout_1',\n",
       "    'trainable': True,\n",
       "    'dtype': 'float32',\n",
       "    'rate': 0.5,\n",
       "    'noise_shape': None,\n",
       "    'seed': None}},\n",
       "  {'class_name': 'Dense',\n",
       "   'config': {'name': 'dense_2',\n",
       "    'trainable': True,\n",
       "    'dtype': 'float32',\n",
       "    'units': 2,\n",
       "    'activation': 'softmax',\n",
       "    'use_bias': True,\n",
       "    'kernel_initializer': {'class_name': 'VarianceScaling',\n",
       "     'config': {'scale': 1.0,\n",
       "      'mode': 'fan_avg',\n",
       "      'distribution': 'uniform',\n",
       "      'seed': None}},\n",
       "    'bias_initializer': {'class_name': 'Zeros', 'config': {}},\n",
       "    'kernel_regularizer': None,\n",
       "    'bias_regularizer': None,\n",
       "    'activity_regularizer': None,\n",
       "    'kernel_constraint': None,\n",
       "    'bias_constraint': None}}]}"
      ]
     },
     "execution_count": 5,
     "metadata": {},
     "output_type": "execute_result"
    }
   ],
   "source": [
    "#Parameters of each layer of the model\n",
    "simple_model = create_model()\n",
    "simple_model.summary()\n",
    "simple_model.get_config()"
   ]
  },
  {
   "cell_type": "code",
   "execution_count": null,
   "metadata": {},
   "outputs": [],
   "source": [
    "#keras.utils.plot_model(simple_model, 'model_with_shape_info.png', show_shapes=True)"
   ]
  }
 ],
 "metadata": {
  "kernelspec": {
   "display_name": "Python 3",
   "language": "python",
   "name": "python3"
  },
  "language_info": {
   "codemirror_mode": {
    "name": "ipython",
    "version": 3
   },
   "file_extension": ".py",
   "mimetype": "text/x-python",
   "name": "python",
   "nbconvert_exporter": "python",
   "pygments_lexer": "ipython3",
   "version": "3.6.8"
  }
 },
 "nbformat": 4,
 "nbformat_minor": 2
}
