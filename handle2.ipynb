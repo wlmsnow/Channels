{
 "cells": [
  {
   "cell_type": "markdown",
   "metadata": {},
   "source": [
    "# Preprocessed data"
   ]
  },
  {
   "cell_type": "code",
   "execution_count": 4,
   "metadata": {},
   "outputs": [],
   "source": [
    "import numpy as np\n",
    "import csv\n",
    "global staut_list"
   ]
  },
  {
   "cell_type": "markdown",
   "metadata": {},
   "source": [
    "Characterize symbolic features in kddcup.data_10_percent_corrected.csv"
   ]
  },
  {
   "cell_type": "code",
   "execution_count": 5,
   "metadata": {},
   "outputs": [],
   "source": [
    "def preHandle():\n",
    "    source_file = 'kddcup/kddcup.data_10_percent_corrected.csv'\n",
    "    handled_file ='kddcup/kddcup.data_10_percent_corrected_handled2.csv'\n",
    "    data_to_flie=open(handled_file, 'w',newline='')\n",
    "    with (open(source_file,'r')) as data_from:\n",
    "        csv_reader=csv.reader(data_from)\n",
    "        csv_writer=csv.writer(data_to_flie)\n",
    "        count=0\n",
    "        for i in csv_reader:\n",
    "            # print i\n",
    "            temp_line=np.array(i)\n",
    "            temp_line[1]=handleProtocol(i)         #将源文件行中3种协议类型转换成数字标识\n",
    "            temp_line[2]=handleService(i)          #将源文件行中70种网络服务类型转换成数字标识\n",
    "            temp_line[3]=handleFlag(i)             #将源文件行中11种网络连接状态转换成数字标识\n",
    "            temp_line[41]=handleLabel(i)           #将源文件行中23种攻击类型转换成数字标识\n",
    "            csv_writer.writerow(temp_line)\n",
    "            #print (count,'staus:',temp_line[1],temp_line[2],temp_line[3],temp_line[41])\n",
    "            count+=1\n",
    "            # return 1\n",
    "        data_to_flie.close()"
   ]
  },
  {
   "cell_type": "markdown",
   "metadata": {},
   "source": [
    "Characterize symbolic features in kddcup.data.corrected_handled2.csv"
   ]
  },
  {
   "cell_type": "code",
   "execution_count": 6,
   "metadata": {},
   "outputs": [],
   "source": [
    "def preHandle2():\n",
    "    source_file = 'kddcup2/kddcup.data.corrected.csv'\n",
    "    handled_file ='kddcup2/kddcup.data.corrected_handled2.csv'\n",
    "    data_to_flie=open(handled_file, 'w',newline='')\n",
    "    with (open(source_file,'r')) as data_from:\n",
    "        csv_reader=csv.reader(data_from)\n",
    "        csv_writer=csv.writer(data_to_flie)\n",
    "        count=0\n",
    "        for i in csv_reader:\n",
    "            # print i\n",
    "            temp_line=np.array(i)\n",
    "            temp_line[1]=handleProtocol(i)         #Convert 3 protocol types in the source file line to digital ID\n",
    "            temp_line[2]=handleService(i)          #Convert 70 network service types in the source file line to digital ID\n",
    "            temp_line[3]=handleFlag(i)             #Convert 11 network connection statuses in the source file line to digital ID\n",
    "            temp_line[41]=handleLabel(i)           #Convert 23 attack types from source file lines to digital IDs\n",
    "            csv_writer.writerow(temp_line)\n",
    "            #print (count,'staus:',temp_line[1],temp_line[2],temp_line[3],temp_line[41])\n",
    "            count+=1\n",
    "            # return 1\n",
    "        data_to_flie.close()"
   ]
  },
  {
   "cell_type": "code",
   "execution_count": 7,
   "metadata": {},
   "outputs": [],
   "source": [
    "#Convert the corresponding non-numeric type to a digital identifier, ie symbolic data, into numeric data\n",
    "def find_index(x,y):\n",
    "    return [ a for a in range(len(y)) if y[a] == x]"
   ]
  },
  {
   "cell_type": "code",
   "execution_count": 8,
   "metadata": {},
   "outputs": [],
   "source": [
    "#Define a function that converts three protocol types in a source file line into a numeric identifier\n",
    "def handleProtocol(input):\n",
    "    protoclo_list=['tcp','udp','icmp']\n",
    "    if input[1]in protoclo_list:\n",
    "        return find_index(input[1],protoclo_list)[0]"
   ]
  },
  {
   "cell_type": "code",
   "execution_count": 9,
   "metadata": {},
   "outputs": [],
   "source": [
    "#Define a function that converts 70 network service types in a source file line into a numeric identifier\n",
    "def handleService(input):\n",
    "    service_list=['aol','auth','bgp','courier','csnet_ns','ctf','daytime','discard','domain','domain_u',\n",
    "                  'echo','eco_i','ecr_i','efs','exec','finger','ftp','ftp_data','gopher','harvest','hostnames',\n",
    "                  'http','http_2784','http_443','http_8001','imap4','IRC','iso_tsap','klogin','kshell','ldap',\n",
    "                  'link','login','mtp','name','netbios_dgm','netbios_ns','netbios_ssn','netstat','nnsp','nntp',\n",
    "                  'ntp_u','other','pm_dump','pop_2','pop_3','printer','private','red_i','remote_job','rje',\n",
    "                  'shell','smtp','sql_net','ssh','sunrpc','supdup','systat','telnet','tftp_u','tim_i',\n",
    "                  'time','urh_i','urp_i','uucp','uucp_path','vmnet','whois','X11','Z39_50']\n",
    "    if input[2]in service_list:\n",
    "        return find_index(input[2],service_list)[0]"
   ]
  },
  {
   "cell_type": "code",
   "execution_count": 10,
   "metadata": {},
   "outputs": [],
   "source": [
    "# Define a function that converts 11 network connection states in a source file line into a numeric identifier\n",
    "def handleFlag(input):\n",
    "    flag_list=['OTH','REJ','RSTO','RSTOS0','RSTR','S0','S1','S2','S3','SF','SH']\n",
    "    if input[3]in flag_list:\n",
    "        return find_index(input[3],flag_list)[0]"
   ]
  },
  {
   "cell_type": "code",
   "execution_count": 11,
   "metadata": {},
   "outputs": [],
   "source": [
    "#Define a function that converts the attack type in the source file line into a numeric identifier\n",
    "def handleLabel(input):\n",
    "    global staut_list #在函数内部使用全局变量并修改它\n",
    "    # ['normal.', 'buffer_overflow.', 'loadmodule.', 'perl.',\n",
    "    #  'neptune.', 'smurf.', 'guess_passwd.', 'pod.', 'teardrop.',\n",
    "    # 'portsweep.', 'ipsweep.', 'land.', 'ftp_write.', 'back.', 'imap.',\n",
    "    #  'satan.', 'phf.', 'nmap.', 'multihop.', 'warezmaster.', 'warezclient.',\n",
    "    # 'spy.', 'rootkit.']\n",
    "    if input[41] in staut_list:\n",
    "        return find_index(input[41],staut_list)[0]\n",
    "    else:\n",
    "        staut_list.append(input[41])\n",
    "        return find_index(input[41],staut_list)[0]"
   ]
  },
  {
   "cell_type": "code",
   "execution_count": 12,
   "metadata": {},
   "outputs": [],
   "source": [
    "if __name__ == '__main__':\n",
    "    global staut_list\n",
    "    staut_list=[]\n",
    "    preHandle()\n",
    "    preHandle2()\n",
    "    # print staut_list"
   ]
  }
 ],
 "metadata": {
  "kernelspec": {
   "display_name": "Python 3",
   "language": "python",
   "name": "python3"
  },
  "language_info": {
   "codemirror_mode": {
    "name": "ipython",
    "version": 3
   },
   "file_extension": ".py",
   "mimetype": "text/x-python",
   "name": "python",
   "nbconvert_exporter": "python",
   "pygments_lexer": "ipython3",
   "version": "3.6.1"
  }
 },
 "nbformat": 4,
 "nbformat_minor": 2
}
