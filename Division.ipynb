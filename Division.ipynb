{
 "cells": [
  {
   "cell_type": "markdown",
   "metadata": {},
   "source": [
    "# Divide data sets into training and test sets"
   ]
  },
  {
   "cell_type": "code",
   "execution_count": null,
   "metadata": {},
   "outputs": [],
   "source": [
    "my_matrix = np.loadtxt(open(\"data/result.csv\"),delimiter=\",\",skiprows=0)\n",
    "X, y = my_matrix[:,:-1],my_matrix[:,-1]\n",
    "X_train, X_test, y_train, y_test = train_test_split(X, y, test_size=0.3, random_state=42)\n",
    "np.savetxt('train_usual.csv',X_train, delimiter = ',')\n",
    "np.savetxt('train.csv',y_train, delimiter = ',')\n",
    "np.savetxt('test_usual.csv', X_test, delimiter = ',')\n",
    "np.savetxt('test.csv', y_test, delimiter = ',')\n"
   ]
  }
 ],
 "metadata": {
  "kernelspec": {
   "display_name": "Python 3",
   "language": "python",
   "name": "python3"
  },
  "language_info": {
   "codemirror_mode": {
    "name": "ipython",
    "version": 3
   },
   "file_extension": ".py",
   "mimetype": "text/x-python",
   "name": "python",
   "nbconvert_exporter": "python",
   "pygments_lexer": "ipython3",
   "version": "3.6.1"
  }
 },
 "nbformat": 4,
 "nbformat_minor": 2
}
