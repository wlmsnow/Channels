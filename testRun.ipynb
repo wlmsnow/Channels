{
 "cells": [
  {
   "cell_type": "code",
   "execution_count": null,
   "metadata": {},
   "outputs": [],
   "source": [
    "from runs import sim\n",
    "from Configuration import setDbgPrint\n",
    "from test_brain import runTest\n",
    "import matplotlib.pyplot as plt\n",
    "import numpy as np\n"
   ]
  },
  {
   "cell_type": "code",
   "execution_count": null,
   "metadata": {},
   "outputs": [],
   "source": [
    "def testRun():\n",
    "    statusPeriod = sim['cfg']['run']['statusPeriod']\n",
    "    dbgPrint = setDbgPrint(sim['cfg']['run'].get('dbgPrint'))\n",
    "    #env = Env(log=dbgPrint, statusPeriod= statusPeriod)\n",
    "    run = runTest()\n",
    "\n",
    "    run.run_(cfg=sim['cfg']['run'])\n",
    "    # plt.figure()\n",
    "    # plt.plot(\n",
    "    #\n",
    "    #     np.divide(np.cumsum([1 if i >= 10 else 0 for i in run.count_history]), np.arange(len(run.count_history)) + 1),\n",
    "    #     '.-')\n",
    "    # plt.xlabel('Training Step')\n",
    "    # plt.ylabel('Correct rate')\n",
    "    # plt.grid(True)\n",
    "    # plt.show()"
   ]
  },
  {
   "cell_type": "code",
   "execution_count": null,
   "metadata": {},
   "outputs": [],
   "source": [
    "if __name__ ==\"__main__\":\n",
    "    testRun()"
   ]
  }
 ],
 "metadata": {
  "kernelspec": {
   "display_name": "Python 3",
   "language": "python",
   "name": "python3"
  },
  "language_info": {
   "codemirror_mode": {
    "name": "ipython",
    "version": 3
   },
   "file_extension": ".py",
   "mimetype": "text/x-python",
   "name": "python",
   "nbconvert_exporter": "python",
   "pygments_lexer": "ipython3",
   "version": "3.6.1"
  }
 },
 "nbformat": 4,
 "nbformat_minor": 2
}
