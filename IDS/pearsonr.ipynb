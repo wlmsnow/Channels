{
 "cells": [
  {
   "cell_type": "code",
   "execution_count": 3,
   "metadata": {},
   "outputs": [],
   "source": [
    "from scipy.stats import pearsonr\n",
    "import pandas as pd\n"
   ]
  },
  {
   "cell_type": "code",
   "execution_count": 4,
   "metadata": {
    "scrolled": true
   },
   "outputs": [
    {
     "name": "stdout",
     "output_type": "stream",
     "text": [
      "[' Destination Port' ' Flow Duration' ' Total Backward Packets'\n",
      " ' Total Length of Bwd Packets' ' Fwd Packet Length Max'\n",
      " ' Fwd Packet Length Min' ' Fwd Packet Length Std'\n",
      " ' Bwd Packet Length Min' 'Flow Bytes/s' ' Flow Packets/s'\n",
      " ' Flow IAT Mean' ' Flow IAT Min' ' Fwd IAT Mean' ' Fwd IAT Std'\n",
      " ' Fwd IAT Min' 'Bwd IAT Total' ' Bwd IAT Mean' ' Bwd IAT Std'\n",
      " ' Bwd IAT Max' ' Fwd Header Length' ' Bwd Header Length' 'Fwd Packets/s'\n",
      " ' Bwd Packets/s' ' Min Packet Length' ' Packet Length Std'\n",
      " ' Packet Length Variance' 'FIN Flag Count' ' PSH Flag Count'\n",
      " ' ACK Flag Count' ' URG Flag Count' ' Down/Up Ratio'\n",
      " ' Avg Fwd Segment Size' ' Avg Bwd Segment Size' ' Fwd Header Length'\n",
      " ' Subflow Fwd Bytes' ' Subflow Bwd Packets' ' Subflow Bwd Bytes'\n",
      " 'Init_Win_bytes_forward' ' Init_Win_bytes_backward' ' act_data_pkt_fwd'\n",
      " ' min_seg_size_forward' 'Active Mean' ' Active Min' ' Idle Std'\n",
      " ' Idle Min']\n",
      " Total Backward Packets与 Total Length of Bwd Packets的相关系数为0.9592868427755528,显著性为0.0\n",
      " Total Backward Packets与 Subflow Bwd Packets的相关系数为0.9999999999999994,显著性为0.0\n",
      " Total Backward Packets与 Subflow Bwd Bytes的相关系数为0.9592754007803984,显著性为0.0\n",
      " Total Length of Bwd Packets与 Subflow Bwd Packets的相关系数为0.9592868427755528,显著性为0.0\n",
      " Total Length of Bwd Packets与 Subflow Bwd Bytes的相关系数为0.9999999184577838,显著性为0.0\n",
      " Flow Packets/s与Fwd Packets/s的相关系数为0.9898162288443396,显著性为0.0\n",
      " Fwd Header Length与 Fwd Header Length的相关系数为0.9999999999999979,显著性为0.0\n",
      " Packet Length Std与 Avg Bwd Segment Size的相关系数为0.9600781735260081,显著性为0.0\n",
      " Subflow Bwd Packets与 Subflow Bwd Bytes的相关系数为0.9592754007803984,显著性为0.0\n"
     ]
    }
   ],
   "source": [
    "#Load boston housing dataset as an example\n",
    "data = pd.read_csv(\"handle_Attack_data/TOTAL_handle8 _45.csv\",header = None,encoding='UTF-8')\n",
    "#data = pd.read_csv(\"C:/research/research/IOT/MLIDS/handle_Attack_data/TOTAL_handle8.csv\",header=None,encoding='UTF-8')\n",
    "data = data.values\n",
    "#data.astype(str)\n",
    "feature = data[0,:-1]\n",
    "print(feature)\n",
    "x, y = data[1:, :-1], data[1:, -1]\n",
    "\n",
    "# for i in range(0,45):\n",
    "#     X.append(x[:,i])\n",
    "#print(X)\n",
    "for i in range(0,45):\n",
    "    for j in range(i+1,45):\n",
    "        r_row, p_value = pearsonr(x[1:,i].astype(float), x[1:,j].astype(float))\n",
    "        if r_row>0.95 or r_row<-0.95:\n",
    "            print(\"{}与{}的相关系数为{},显著性为{}\".format(feature[i],feature[j],r_row,p_value))\n"
   ]
  },
  {
   "cell_type": "code",
   "execution_count": 5,
   "metadata": {},
   "outputs": [],
   "source": [
    "# get_ipython().run_line_magic('matplotlib', 'notebook')\n",
    "\n",
    "\n",
    "# plt.title(\"feature_importances\")\n",
    "# plt.bar(range(x_train.shape[1]),\n",
    "#         importances[indices],\n",
    "#         color='lightblue',\n",
    "#         align='center')\n",
    "# plt.xticks(range(x_train.shape[1]),\n",
    "#            feat_labels,rotation=90)\n",
    "# plt.xlim([-1,x_train.shape[1]])\n",
    "# plt.tight_layout()\n",
    "# plt.show()  "
   ]
  }
 ],
 "metadata": {
  "kernelspec": {
   "display_name": "Python 3",
   "language": "python",
   "name": "python3"
  },
  "language_info": {
   "codemirror_mode": {
    "name": "ipython",
    "version": 3
   },
   "file_extension": ".py",
   "mimetype": "text/x-python",
   "name": "python",
   "nbconvert_exporter": "python",
   "pygments_lexer": "ipython3",
   "version": "3.6.8"
  }
 },
 "nbformat": 4,
 "nbformat_minor": 2
}
