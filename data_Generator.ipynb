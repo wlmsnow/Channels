{
 "cells": [
  {
   "cell_type": "code",
   "execution_count": null,
   "metadata": {},
   "outputs": [],
   "source": [
    "import csv\n",
    "import random\n",
    "import numpy as np\n",
    "import  pandas as pd\n",
    "from sklearn import preprocessing\n",
    "from runs import sim\n",
    "from sklearn.preprocessing import Imputer"
   ]
  },
  {
   "cell_type": "code",
   "execution_count": null,
   "metadata": {},
   "outputs": [],
   "source": [
    "global staut_list\n",
    "def Numerical(source_file,handled_file):\n",
    "    data = pd.read_csv(source_file,delimiter=',')\n",
    "\n",
    "    data = data.values\n",
    "    data = data[:,0:79]\n",
    "    list = data[:,0:78]\n",
    "    list = Imputer(missing_values='NaN', strategy='mean', axis=0).fit_transform(list)\n",
    "    min_max_scaler = preprocessing.MinMaxScaler()\n",
    "    data[:,0:76] = min_max_scaler.fit_transform(list)\n",
    "    data_normal = data[:,0:77]\n",
    "\n",
    "    count = 0\n",
    "    for i in data:\n",
    "\n",
    "        data_normal[count,76] =  handleLabel(i)\n",
    "        count+=1\n",
    "\n",
    "    data_normal = pd.DataFrame(data_normal)\n",
    "    data_normal.to_csv(handled_file,header=0,index = 0)\n",
    "\n",
    "\n",
    "    return list"
   ]
  },
  {
   "cell_type": "code",
   "execution_count": null,
   "metadata": {},
   "outputs": [],
   "source": [
    "def handleLabel(input):\n",
    "    global staut_list\n",
    "    if input[78] in staut_list:\n",
    "\n",
    "        return find_index(input[78],staut_list)[0]\n",
    "    else:\n",
    "        staut_list.append(input[78])\n",
    "\n",
    "        return find_index(input[78],staut_list)[0]"
   ]
  },
  {
   "cell_type": "code",
   "execution_count": null,
   "metadata": {},
   "outputs": [],
   "source": [
    "def find_index(x, y):\n",
    "    return [a for a in range(len(y)) if y[a] == x]"
   ]
  },
  {
   "cell_type": "code",
   "execution_count": null,
   "metadata": {},
   "outputs": [],
   "source": [
    "import os\n",
    "import pandas as pd\n",
    "import glob"
   ]
  },
  {
   "cell_type": "code",
   "execution_count": null,
   "metadata": {},
   "outputs": [],
   "source": [
    "# Defining function Merge.Combine all the data together.\n",
    "\n",
    "def Merge():\n",
    "    csv_list = glob.glob('data/*.csv')  # View the number of csv files in the same folder\n",
    "\n",
    "    print(u'%s CSV files found' % len(csv_list))\n",
    "    print(u'Processing............')\n",
    "    for i in csv_list:  # Loop through the csv file in the same folder\n",
    "        fr = open(i, 'r').read()\n",
    "        with open('result.csv', 'a') as f:  # Save the result as result.csv\n",
    "            f.write(fr)\n",
    "    print(u'The merger is complete!')\n",
    "\n"
   ]
  },
  {
   "cell_type": "code",
   "execution_count": null,
   "metadata": {},
   "outputs": [],
   "source": [
    "def trainTestSplit(X,test_size=0.3):\n",
    "     X_num=X.shape[0]\n",
    "     train_index=range(X_num)\n",
    "     test_index=[]\n",
    "     test_num=int(X_num*test_size)\n",
    "     for i in range(test_num):\n",
    "          randomIndex=int(np.random.uniform(0,len(train_index)))\n",
    "          test_index.append(train_index[randomIndex])\n",
    "          del train_index[randomIndex]\n",
    "     train=X.ix[train_index] \n",
    "     test=X.ix[test_index]\n",
    "     return train,test\n"
   ]
  },
  {
   "cell_type": "code",
   "execution_count": null,
   "metadata": {},
   "outputs": [],
   "source": [
    "#Read the training and test data. The training data set is train_usual.csv, the label is train.csv,\n",
    "#  the test data set is test_usual.csv, and the label is test.csv.\n",
    "def data_Generator(flag):\n",
    "    if flag == 1:\n",
    "\n",
    "        data = pd.read_csv(\"data/train_usual.csv\")\n",
    "        list = data.values.tolist()\n",
    "    else:\n",
    "        data = pd.read_csv(\"data/test_usual.csv\")\n",
    "        list = data.values.tolist()\n",
    "\n",
    "    return list"
   ]
  },
  {
   "cell_type": "code",
   "execution_count": null,
   "metadata": {},
   "outputs": [],
   "source": [
    "def data_Generator_label(flag):\n",
    "    if flag == 1:\n",
    "        data = pd.read_csv(\"data/train.csv\")\n",
    "        list = data.values.tolist()\n",
    "    else:\n",
    "        data = pd.read_csv(\"data/test.csv\")\n",
    "        list = data.values.tolist()\n",
    "\n",
    "    return list"
   ]
  },
  {
   "cell_type": "code",
   "execution_count": null,
   "metadata": {},
   "outputs": [],
   "source": [
    "\n",
    "#import pandas as pd\n",
    "#import os\n",
    "\n",
    "\n",
    "#if __name__ == '__main__':\n",
    "    # global staut_list\n",
    "    # staut_list=[]\n",
    "    #\n",
    "    # source_file = [\"Thursday-WorkingHours-Morning-WebAttacks.pcap_ISCX.csv\",\"Thursday-WorkingHours-Afternoon-Infilteration.pcap_ISCX.csv\",\"Friday-WorkingHours-Afternoon-DDos.pcap_ISCX.csv\",\"Friday-WorkingHours-Afternoon-PortScan.pcap_ISCX.csv\",\"Friday-WorkingHours-Morning.pcap_ISCX.csv\",\"Tuesday-WorkingHours.csv\",\"Monday-WorkingHours.pcap_ISCX.csv\",\"Wednesday-workingHours.pcap_ISCX.csv\"]\n",
    "    # handled_file = [\"Thursday-WorkingHours-Morning-WebAttacks_handle.pcap_ISCX.csv\",\"Thursday-WorkingHours-Afternoon-Infilteration_handle.pcap_ISCX.csv\",\"Friday-WorkingHours-Afternoon-DDos_handle.pcap_ISCX.csv\",\"Friday-WorkingHours-Afternoon-PortScan_handle.pcap_ISCX.csv\",\"Friday-WorkingHours-Morning_handle.pcap_ISCX.csv\",\"Tuesday-WorkingHours_handle.csv\",\"Monday-WorkingHours_handle.pcap_ISCX.csv\",\"Wednesday-workingHours_handle.pcap_ISCX.csv\"]\n",
    "    # for(s,h)in zip(source_file,handled_file):\n",
    "    #     print(s,h)\n",
    "    #     data_Generator(s,h)"
   ]
  }
 ],
 "metadata": {
  "kernelspec": {
   "display_name": "Python 3",
   "language": "python",
   "name": "python3"
  },
  "language_info": {
   "codemirror_mode": {
    "name": "ipython",
    "version": 3
   },
   "file_extension": ".py",
   "mimetype": "text/x-python",
   "name": "python",
   "nbconvert_exporter": "python",
   "pygments_lexer": "ipython3",
   "version": "3.6.1"
  }
 },
 "nbformat": 4,
 "nbformat_minor": 2
}
