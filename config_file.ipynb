{
 "cells": [
  {
   "cell_type": "code",
   "execution_count": 1,
   "metadata": {},
   "outputs": [],
   "source": [
    "config={'model': { \"BATCH_SIZE\": 64,\n",
    "                    \"FEATURES_SIZE\" : 9,# Define the feature size and number of channels that the neural network can receive  \n",
    "                    \"NUM_CHANNELS\" : 1,\n",
    "                    \"CONV1_SIZE\" : 3,# Define the size and number of first-level convolution kernels\n",
    "                    \"CONV1_KERNEL_NUM\" : 32,\n",
    "                    \"CONV2_SIZE\" : 3,# Define the size and number of second-level convolution kernels\n",
    "                    \"CONV2_KERNEL_NUM\" : 64,\n",
    "                    \"FC_SIZE\" :512,# Define the number of neurons in the third fully connected layer\n",
    "                    \"OUTPUT_NODE\" : 2,# Define the number of neurons in the fourth fully connected layer\n",
    "                    \"FEATURES_SIZE\": 9,\n",
    "                    \"keep_prob\" : 0.5,\n",
    "                    \"regularizer\": 0.0001,\n",
    "                    \"num_classes\" : 2},\n",
    "        \"run\":{ \"classes\" : [\"BENIGN\",\"ATTACK\"]},\n",
    "        \"Train_model\":{\"n_splits_k\" : 8}\n",
    "\n",
    "       }"
   ]
  },
  {
   "cell_type": "code",
   "execution_count": null,
   "metadata": {},
   "outputs": [],
   "source": [
    ""
   ]
  }
 ],
 "metadata": {
  "kernelspec": {
   "display_name": "Python 3",
   "language": "python",
   "name": "python3"
  },
  "language_info": {
   "codemirror_mode": {
    "name": "ipython",
    "version": 3.0
   },
   "file_extension": ".py",
   "mimetype": "text/x-python",
   "name": "python",
   "nbconvert_exporter": "python",
   "pygments_lexer": "ipython3",
   "version": "3.6.1"
  }
 },
 "nbformat": 4,
 "nbformat_minor": 0
}